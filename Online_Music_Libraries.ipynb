{
  "nbformat": 4,
  "nbformat_minor": 0,
  "metadata": {
    "colab": {
      "provenance": [],
      "authorship_tag": "ABX9TyOT9DqXO1HHj68QIGDH/tVA",
      "include_colab_link": true
    },
    "kernelspec": {
      "name": "python3",
      "display_name": "Python 3"
    },
    "language_info": {
      "name": "python"
    }
  },
  "cells": [
    {
      "cell_type": "markdown",
      "metadata": {
        "id": "view-in-github",
        "colab_type": "text"
      },
      "source": [
        "<a href=\"https://colab.research.google.com/github/raminakhavijou/Arduino-Ultrasonic-sensor_Max/blob/main/Online_Music_Libraries.ipynb\" target=\"_parent\"><img src=\"https://colab.research.google.com/assets/colab-badge.svg\" alt=\"Open In Colab\"/></a>"
      ]
    },
    {
      "cell_type": "code",
      "execution_count": null,
      "metadata": {
        "id": "7eVUYlSXLgfA"
      },
      "outputs": [],
      "source": [
        "import numpy as np\n",
        "import pandas as pd\n",
        "\n",
        "# this section ignores the possible generated warning:\n",
        "def warn(*args, **kwargs):\n",
        "    pass\n",
        "import warnings\n",
        "warnings.warn = warn\n",
        "warnings.filterwarnings('ignore')\n",
        "\n",
        "URL=\"https://en.wikipedia.org/wiki/List_of_online_digital_musical_document_libraries\""
      ]
    },
    {
      "cell_type": "markdown",
      "source": [
        "Extract tables from the webpage using Pandas. Retain table number 0 as the required dataframe"
      ],
      "metadata": {
        "id": "M_zgGcVaNBy5"
      }
    },
    {
      "cell_type": "code",
      "source": [
        "tables = pd.read_html(URL)\n",
        "df = tables[0]\n",
        "print(df)"
      ],
      "metadata": {
        "colab": {
          "base_uri": "https://localhost:8080/"
        },
        "id": "RNRs1_5YNSh-",
        "outputId": "231ad030-1fc3-45a2-e880-333816d06a3b"
      },
      "execution_count": null,
      "outputs": [
        {
          "output_type": "stream",
          "name": "stdout",
          "text": [
            "                                                 Name  \\\n",
            "0   19th-Century American Sheet Music at UNC Chape...   \n",
            "1                 19th-Century California Sheet Music   \n",
            "2                        African American Sheet Music   \n",
            "3                                    ART SONG CENTRAL   \n",
            "4                  The Ashford Sheet Music Collection   \n",
            "..                                                ...   \n",
            "56                             Tomas Luis de Victoria   \n",
            "57                        A Traditional Music Library   \n",
            "58                   Vatican Exhibit Main Hall: Music   \n",
            "59             Ville de Laon: Bibliothèque Municipale   \n",
            "60                       Virtual Music Rare Book Room   \n",
            "\n",
            "                                           Subject(s)  No. of Items  \\\n",
            "0                              19th-century, American        3500.0   \n",
            "1                   19th-century, Californian, colour        2700.0   \n",
            "2   19th-century, 20th-century, African-American, ...      250000.0   \n",
            "3             downloadable, IPA transcriptions, vocal        1000.0   \n",
            "4                                American, Washington        1000.0   \n",
            "..                                                ...           ...   \n",
            "56  editions, manuscripts, prints, Renaissance, Vi...           NaN   \n",
            "57                            folk music, sheet music       60000.0   \n",
            "58                                        Renaissance          23.0   \n",
            "59                                        Renaissance           NaN   \n",
            "60                        18th-century, French, opera           NaN   \n",
            "\n",
            "                                          Description  \\\n",
            "0   Approximately 3,500 popular vocal and instrume...   \n",
            "1   Sheet music published in California between 18...   \n",
            "2   Sheet music, primarily vocal music of American...   \n",
            "3   Printable sheet music primarily for singers an...   \n",
            "4   Largely from and about Washington State and th...   \n",
            "..                                                ...   \n",
            "56  Prints and editions of Victoria, Morales, and ...   \n",
            "57  Traditional and folk music from around the wor...   \n",
            "58           Colour JPEGs of Renaissance manuscripts.   \n",
            "59              Music from the 9th to 15th centuries.   \n",
            "60             Emphasis on 18th-century French opera.   \n",
            "\n",
            "                                    Provider(s)  \n",
            "0   University of North Carolina at Chapel Hill  \n",
            "1            University of California, Berkeley  \n",
            "2          John Hay Library at Brown University  \n",
            "3                              ART SONG CENTRAL  \n",
            "4                      University of Washington  \n",
            "..                                          ...  \n",
            "56                         University of Málaga  \n",
            "57                         Rod Smith (musician)  \n",
            "58                                      ibiblio  \n",
            "59       Ville de Laon: Bibliothèque Municipale  \n",
            "60                    University of North Texas  \n",
            "\n",
            "[61 rows x 5 columns]\n"
          ]
        }
      ]
    },
    {
      "cell_type": "markdown",
      "source": [
        "Now save the data as csv. file for query and data visualization.\n"
      ],
      "metadata": {
        "id": "qYTfsdOjNtpX"
      }
    },
    {
      "cell_type": "code",
      "source": [
        "df.to_excel('/Users/raminakhavijou/Documents/DATAANALYSIS/EXCEL/OnlineMusicLibraries.xlsx')"
      ],
      "metadata": {
        "id": "WdbE8GCqOEl8"
      },
      "execution_count": null,
      "outputs": []
    }
  ]
}